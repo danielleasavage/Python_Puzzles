{
 "cells": [
  {
   "cell_type": "code",
   "execution_count": 5,
   "metadata": {},
   "outputs": [],
   "source": [
    "class HashTable:\n",
    "    \"\"\"\n",
    "    A hashtable represented as a list of lists with open hashing.\n",
    "    Each bucket is a list of (key,value) tuples\n",
    "    \"\"\"\n",
    "    \n",
    "    def __init__(self, nbuckets):\n",
    "        self.nbuckets = nbuckets\n",
    "        self.table = [[] for i in range(nbuckets)]\n",
    "        \n",
    "    def buckets_str(self):\n",
    "        \"\"\"\n",
    "        Return a string representing the various buckets of this table. The output looks like:\n",
    "          0000->\n",
    "          0001->\n",
    "          0002->\n",
    "          0003->parrt:99\n",
    "          0004->\n",
    "        where parrt:99 indicates an association of (parrt,99) in bucket 3.\n",
    "        \"\"\" \n",
    "        bucket_string = ''\n",
    "        for b_index, bucket in enumerate(self.table):\n",
    "            bucket_string += str(b_index).zfill(4) + '->'\n",
    "            for tup in self.table[b_index]:\n",
    "                key = tup[0]\n",
    "                values = tup[1]\n",
    "                bucket_string += '{}:{}, '.format(key,values)\n",
    "            bucket_string = bucket_string.rstrip(', ')\n",
    "            bucket_string += '\\n'\n",
    "        return bucket_string\n",
    "    \n",
    "    \n",
    "    def __str__(self):\n",
    "        \"\"\"\n",
    "        Return what str(table) would return for a regular Python dict such as {parrt:99}.\n",
    "        The order should be bucket order and then insertion order in the bucket.\n",
    "        The insertion order is guaranteed when you append to the buckets in put.\n",
    "        \"\"\"\n",
    "        dict_string = '{'\n",
    "        for b_index, bucket in enumerate(self.table):\n",
    "            for tup in self.table[b_index]:\n",
    "                key = tup[0]\n",
    "                values = tup[1]\n",
    "                dict_string += '{}:{}, '.format(key,values)\n",
    "        dict_string = dict_string.rstrip(', ')\n",
    "        dict_string += '}'\n",
    "        return dict_string\n",
    "    \n",
    "    \n",
    "    def hashcode(self,o):\n",
    "        \"\"\"\n",
    "        Return a hashcode for strings and integers; all others return None\n",
    "        For integers, just return the integer value.\n",
    "        For strings, perform operation h = h*31 + ord(c) for all characters in the string\n",
    "        \"\"\"\n",
    "        if isinstance(o, int):\n",
    "            return o\n",
    "        else:\n",
    "            h = 0\n",
    "            for c in o:\n",
    "                h = h*31 + ord(c)\n",
    "            return h\n",
    "    \n",
    "    \n",
    "    def get(self, key):\n",
    "        \"\"\"\n",
    "        Return table[key].\n",
    "        Find the appropriate bucket indicated by the key and look for the association with the key. Return the value (not the key and not the association!)\n",
    "        Return None if key not found.\n",
    "        \"\"\"\n",
    "        bucket = self.hashcode(key) % self.nbuckets\n",
    "        for k,tup in enumerate(self.table[bucket]):\n",
    "            if tup[0] == key:\n",
    "                return tup[1]\n",
    "            elif k==len(self.table[bucket]):\n",
    "                return None\n",
    "            \n",
    "    def __getitem__(self, key):\n",
    "        \"\"\"\n",
    "        Return table[key].\n",
    "        Find the appropriate bucket indicated by the key and look for the association with the key. Return the value (not the key and not the association!)\n",
    "        Return None if key not found.\n",
    "        \"\"\"\n",
    "        return self.get(key)\n",
    "\n",
    "    \n",
    "    def put(self, key, value):\n",
    "        \"\"\"\n",
    "        Perform table[key] = value\n",
    "        Find the appropriate bucket indicated by key and then append a value to the bucket.\n",
    "        If the bucket for key already has a key, value pair with that key then replace it.\n",
    "        Make sure that you are only adding (key, value) associations to the buckets.\n",
    "        \"\"\"\n",
    "        bucket = self.hashcode(key) % self.nbuckets\n",
    "        if len(self.table[bucket]) == 0:\n",
    "            self.table[bucket].append((key, value))\n",
    "        else:\n",
    "            for k, tup in enumerate(self.table[bucket]):\n",
    "                if tup[0] == key:\n",
    "                    self.table[bucket][k] = (key, value)\n",
    "                    break\n",
    "                elif k == len(self.table[bucket]) - 1:\n",
    "                    self.table[bucket].append((key, value))\n",
    "                    break\n",
    "        #return table\n",
    "        \n",
    "    def __setitem__(self, key, value):\n",
    "        \"\"\"\n",
    "        Perform table[key] = value\n",
    "        Find the appropriate bucket indicated by key and then append a value to the bucket.\n",
    "        If the bucket for key already has a key, value pair with that key then replace it.\n",
    "        Make sure that you are only adding (key, value) associations to the buckets.\n",
    "        \"\"\"\n",
    "        self.put(key, value)\n",
    "        \n",
    "    \n",
    "    def bucket_indexof(self, key):\n",
    "        \"\"\"\n",
    "        Return the element within a specific bucket; the bucket is table[key].\n",
    "        You have to search the bucket linearly.\n",
    "        \"\"\"\n",
    "        bucket = self.hashcode(key) % len(self.table)\n",
    "        for t, tup in enumerate(self.table[bucket]):\n",
    "            if tup[0] == key:\n",
    "                return bucket, t\n",
    "\n",
    "        return None"
   ]
  },
  {
   "cell_type": "code",
   "execution_count": 6,
   "metadata": {},
   "outputs": [],
   "source": [
    "def test_empty():\n",
    "    table = HashTable(5)\n",
    "    assert str(table) == \"{}\"\n",
    "    assert table.buckets_str() == \"\"\"0000->\n",
    "0001->\n",
    "0002->\n",
    "0003->\n",
    "0004->\n",
    "\"\"\"\n",
    "\n",
    "\n",
    "def test_single():\n",
    "    table = HashTable(5)\n",
    "    table.put(\"parrt\", 99)\n",
    "    assert str(table) == \"{parrt:99}\"\n",
    "    assert table.buckets_str() == \"\"\"0000->\n",
    "0001->\n",
    "0002->\n",
    "0003->parrt:99\n",
    "0004->\n",
    "\"\"\"\n",
    "\n",
    "def test_a_few():\n",
    "    table = HashTable(5)\n",
    "    for i in range(1, 11):\n",
    "        table.put( i, i)\n",
    "    s = str(table)\n",
    "    assert s==\"{5:5, 10:10, 1:1, 6:6, 2:2, 7:7, 3:3, 8:8, 4:4, 9:9}\"\n",
    "    s = table.buckets_str()\n",
    "    assert s == \"\"\"0000->5:5, 10:10\n",
    "0001->1:1, 6:6\n",
    "0002->2:2, 7:7\n",
    "0003->3:3, 8:8\n",
    "0004->4:4, 9:9\n",
    "\"\"\"\n",
    "\n",
    "\n",
    "def test_str_to_set():\n",
    "    table = HashTable(5)\n",
    "    table.put(\"parrt\", {2, 99, 3942})\n",
    "    table.put(\"tombu\", {6, 3, 1024, 99, 102342})\n",
    "    assert str(table)== \"{tombu:{1024, 99, 3, 102342, 6}, parrt:{2, 99, 3942}}\"\n",
    "    assert table.buckets_str() == \"\"\"0000->\n",
    "0001->tombu:{1024, 99, 3, 102342, 6}\n",
    "0002->\n",
    "0003->parrt:{2, 99, 3942}\n",
    "0004->\n",
    "\"\"\"\n"
   ]
  },
  {
   "cell_type": "code",
   "execution_count": 7,
   "metadata": {},
   "outputs": [],
   "source": [
    "test_empty()"
   ]
  },
  {
   "cell_type": "code",
   "execution_count": 8,
   "metadata": {},
   "outputs": [],
   "source": [
    "test_single()"
   ]
  },
  {
   "cell_type": "code",
   "execution_count": 9,
   "metadata": {},
   "outputs": [],
   "source": [
    "test_a_few()"
   ]
  },
  {
   "cell_type": "code",
   "execution_count": 10,
   "metadata": {},
   "outputs": [],
   "source": [
    "test_str_to_set()"
   ]
  },
  {
   "cell_type": "code",
   "execution_count": 11,
   "metadata": {},
   "outputs": [
    {
     "name": "stdout",
     "output_type": "stream",
     "text": [
      "34\n"
     ]
    }
   ],
   "source": [
    "h = HashTable(5)\n",
    "h['a'] = 34\n",
    "print(h['a'])"
   ]
  },
  {
   "cell_type": "code",
   "execution_count": 13,
   "metadata": {},
   "outputs": [],
   "source": [
    "h['b'] = 433"
   ]
  },
  {
   "cell_type": "code",
   "execution_count": 14,
   "metadata": {},
   "outputs": [
    {
     "name": "stdout",
     "output_type": "stream",
     "text": [
      "433\n"
     ]
    }
   ],
   "source": [
    "print(h['b'])"
   ]
  }
 ],
 "metadata": {
  "kernelspec": {
   "display_name": "Python 3",
   "language": "python",
   "name": "python3"
  },
  "language_info": {
   "codemirror_mode": {
    "name": "ipython",
    "version": 3
   },
   "file_extension": ".py",
   "mimetype": "text/x-python",
   "name": "python",
   "nbconvert_exporter": "python",
   "pygments_lexer": "ipython3",
   "version": "3.6.4"
  }
 },
 "nbformat": 4,
 "nbformat_minor": 2
}
