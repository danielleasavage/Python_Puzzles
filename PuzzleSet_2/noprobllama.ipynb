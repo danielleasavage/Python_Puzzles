{
 "cells": [
  {
   "cell_type": "markdown",
   "metadata": {},
   "source": [
    "# Lazy Cryptocurrency Trader"
   ]
  },
  {
   "cell_type": "code",
   "execution_count": 2,
   "metadata": {},
   "outputs": [],
   "source": [
    "import sys\n",
    "sys.stdin.readlines()\n",
    "\n",
    "def check_if_buy(prices):\n",
    "    if prices[0] < prices[1]:\n",
    "        return True\n",
    "    else:\n",
    "        return False"
   ]
  },
  {
   "cell_type": "code",
   "execution_count": 3,
   "metadata": {},
   "outputs": [],
   "source": [
    "def check_if_sell(prices):\n",
    "    print('checking....')\n",
    "    print(prices[0], prices[1])\n",
    "    if prices[0] > prices[1]:\n",
    "        return True\n",
    "    else:\n",
    "        return False"
   ]
  },
  {
   "cell_type": "code",
   "execution_count": 14,
   "metadata": {},
   "outputs": [],
   "source": [
    "lazy_input = [101,1,2,3,199]\n",
    "lazy_input.pop(0)\n",
    "input_prices = lazy_input\n",
    "\n",
    "def determine_how_rich(input_prices):\n",
    "    money = 100\n",
    "    coins = 0\n",
    "    while len(input_prices) > 1:\n",
    "        print(input_prices[0], money, coins)\n",
    "        if check_if_buy(input_prices) and money > input_prices[0]:\n",
    "            coins = int(money/input_prices[0])\n",
    "            money -= coins * input_prices[0]\n",
    "            if coins > 100000:\n",
    "                coins = 100000\n",
    "            input_prices.pop(0)\n",
    "            print('buy')\n",
    "        elif check_if_sell(input_prices) and coins != 0:\n",
    "            money += coins * input_prices[0]\n",
    "            coins = 0\n",
    "            input_prices.pop(0)\n",
    "            print('sold')\n",
    "        else:\n",
    "            input_prices.pop(0)\n",
    "    if coins > 0:\n",
    "        money += coins * input_prices[0]\n",
    "    return (money, coins, input_prices)"
   ]
  },
  {
   "cell_type": "code",
   "execution_count": 15,
   "metadata": {},
   "outputs": [
    {
     "name": "stdout",
     "output_type": "stream",
     "text": [
      "101 100 0\n",
      "checking....\n",
      "101 1\n",
      "1 100 0\n",
      "buy\n",
      "2 0 100\n",
      "checking....\n",
      "2 3\n",
      "3 0 100\n",
      "checking....\n",
      "3 199\n"
     ]
    },
    {
     "data": {
      "text/plain": [
       "(19900, 100, [199])"
      ]
     },
     "execution_count": 15,
     "metadata": {},
     "output_type": "execute_result"
    }
   ],
   "source": [
    "input_prices = [101,1,2,3,199]\n",
    "determine_how_rich(input_prices)"
   ]
  },
  {
   "cell_type": "markdown",
   "metadata": {},
   "source": [
    "# No More Games"
   ]
  },
  {
   "cell_type": "code",
   "execution_count": 37,
   "metadata": {},
   "outputs": [],
   "source": [
    "import sys\n",
    "match_input = sys.stdin.readlines()\n",
    "\n",
    "class Player:\n",
    "    def __init__(self):\n",
    "        self.stars = 0\n",
    "        self.rank = 25\n",
    "        self.wins = 0\n",
    "        \n",
    "    def update_rank(self, outcome):\n",
    "        if outcome == 'W':\n",
    "            self.rank -= 1\n",
    "        else:\n",
    "            self.rank += 1\n",
    "        \n",
    "    def update_stars(self,stars):\n",
    "        self.stars = stars\n",
    "        \n",
    "    def update_wins(self, outcome):\n",
    "        if outcome == 'W':\n",
    "            self.wins += 1\n",
    "        else:\n",
    "            self.wins = 0\n",
    "\n",
    "stars_needed = {1:5,2:5,3:5,4:5,5:5,\n",
    "                6:5,7:5,8:5,9:5,10:5,\n",
    "                11:4,12:4,13:4,14:4,15:4,\n",
    "                16:3,17:3,18:3,19:3,20:3,\n",
    "                21:2,22:2,23:2,24:2,25:2}"
   ]
  },
  {
   "cell_type": "code",
   "execution_count": 101,
   "metadata": {},
   "outputs": [],
   "source": [
    "def find_final_rank(match_input):\n",
    "    spencer = Player()\n",
    "    for outcome in match_input:\n",
    "        if spencer.rank == 0:\n",
    "            return 'Legend'\n",
    "        if outcome == 'W':\n",
    "            spencer.update_wins('W')\n",
    "            if 5 < spencer.rank < 26 and spencer.wins > 2:\n",
    "                spencer.update_stars(spencer.stars+2)\n",
    "            else:\n",
    "                spencer.update_stars(spencer.stars+1)\n",
    "            if stars_needed[spencer.rank] < spencer.stars:\n",
    "                stars = spencer.stars - stars_needed[spencer.rank]\n",
    "                spencer.update_rank('W')\n",
    "                spencer.update_stars(stars)\n",
    "        else:\n",
    "            spencer.update_wins('L')\n",
    "            if spencer.rank <20:\n",
    "                if spencer.stars == 0:\n",
    "                    spencer.update_rank('L')\n",
    "                    stars = stars_needed[spencer.rank] - 1\n",
    "                    spencer.update_stars(stars)\n",
    "                else:\n",
    "                    spencer.update_stars(spencer.stars -1)\n",
    "\n",
    "    return spencer.rank"
   ]
  },
  {
   "cell_type": "markdown",
   "metadata": {},
   "source": [
    "# Find your way home "
   ]
  },
  {
   "cell_type": "code",
   "execution_count": 16,
   "metadata": {},
   "outputs": [],
   "source": [
    "def compass(current_position,final_position):\n",
    "    diff = final_position - current_position\n",
    "    if abs(diff) == 180:\n",
    "        return 180\n",
    "    elif abs(diff) > 180:\n",
    "        if final_position - current_position > 0:\n",
    "            return ((360 - final_position) + current_position)*-1\n",
    "        else:\n",
    "            return(((360 - current_position) + final_position))\n",
    "    elif abs(diff) < 180:\n",
    "        return diff      "
   ]
  },
  {
   "cell_type": "code",
   "execution_count": 17,
   "metadata": {},
   "outputs": [
    {
     "data": {
      "text/plain": [
       "90"
      ]
     },
     "execution_count": 17,
     "metadata": {},
     "output_type": "execute_result"
    }
   ],
   "source": [
    "compass(315,45)"
   ]
  },
  {
   "cell_type": "code",
   "execution_count": null,
   "metadata": {},
   "outputs": [],
   "source": []
  }
 ],
 "metadata": {
  "kernelspec": {
   "display_name": "Python 3",
   "language": "python",
   "name": "python3"
  },
  "language_info": {
   "codemirror_mode": {
    "name": "ipython",
    "version": 3
   },
   "file_extension": ".py",
   "mimetype": "text/x-python",
   "name": "python",
   "nbconvert_exporter": "python",
   "pygments_lexer": "ipython3",
   "version": "3.6.4"
  }
 },
 "nbformat": 4,
 "nbformat_minor": 2
}
