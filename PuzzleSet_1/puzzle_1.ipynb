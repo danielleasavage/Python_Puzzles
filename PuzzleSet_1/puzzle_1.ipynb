{
 "cells": [
  {
   "cell_type": "code",
   "execution_count": 2,
   "metadata": {},
   "outputs": [],
   "source": [
    "#taco_cat.py\n",
    "import sys\n",
    "import re\n",
    "\n",
    "def check_input(sys_input):\n",
    "    # checks that there is only 1 input & that the input is a string > len 0\n",
    "    return len(sys.argv) == 2 and len(sys.argv[1]) > 0 and type(sys.argv[1]) == str\n",
    "    \n",
    "def check_if_palindrome(input_str):\n",
    "    alpha_str = re.sub(\"[^a-zA-Z]\",\"\", input_str)\n",
    "    forward = alpha_str.lower()\n",
    "    backward = forward[::-1]\n",
    "    return backward == forward #returns true if the word is the same forawrd & backward\n",
    "\n",
    "#### RUNS PROGRAM ####\n",
    "if check_input(sys.argv):\n",
    "    input_str = sys.argv[1]\n",
    "    if check_if_palindrome(input_str):\n",
    "        print ('yes')\n",
    "    else:\n",
    "        print ('no')\n",
    "else:\n",
    "    raise ValueError (\"Only one arg allowed; arg must be of type string\")"
   ]
  },
  {
   "cell_type": "code",
   "execution_count": null,
   "metadata": {},
   "outputs": [],
   "source": [
    "import sys\n",
    "\n",
    "def find_number_words(phone_number):\n",
    "    letter_dict = {'1':[''], '2':['a','b','c'], '3':['d','e','f'],\n",
    "                  '4':['g','h','i'], '5':['j','k','l'], '6': ['m','n','o'],\n",
    "                  '7':['p','q','r','s'], '8':['t','u','v'], '9':['w','x','y','z']}\n",
    "    word_list = []\n",
    "    for word in sys.stdin:\n",
    "        word = word.strip()\n",
    "        if len(word) == len(phone_number):\n",
    "            word_list.append(word)\n",
    "    for i, num in enumerate(phone_number):\n",
    "        [word if word[i] in letter_dict[num] for word in wordlist]\n",
    "\n",
    "#### RUNS PROGRAM ####\n",
    "if len(sys.argv) == 2:\n",
    "    phone_number = sys.argv[1].lstrip('0')\n",
    "    try: \n",
    "        int(phone_number)\n",
    "    except ValueError:\n",
    "        print('Oops! Input arg must be an integer value')\n",
    "    if int(phone_number) > 0:\n",
    "        return find_all_words(phone_number)\n",
    "    else:\n",
    "        print('Oops! Input arg must be a POSITIVE integer value')\n",
    "else:\n",
    "    print ('input required')\n",
    "        \n",
    "        "
   ]
  },
  {
   "cell_type": "code",
   "execution_count": null,
   "metadata": {},
   "outputs": [],
   "source": []
  },
  {
   "cell_type": "code",
   "execution_count": null,
   "metadata": {},
   "outputs": [],
   "source": []
  }
 ],
 "metadata": {
  "kernelspec": {
   "display_name": "Python 3",
   "language": "python",
   "name": "python3"
  },
  "language_info": {
   "codemirror_mode": {
    "name": "ipython",
    "version": 3
   },
   "file_extension": ".py",
   "mimetype": "text/x-python",
   "name": "python",
   "nbconvert_exporter": "python",
   "pygments_lexer": "ipython3",
   "version": "3.6.4"
  }
 },
 "nbformat": 4,
 "nbformat_minor": 2
}
